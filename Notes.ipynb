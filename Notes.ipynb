{
 "cells": [
  {
   "cell_type": "markdown",
   "metadata": {},
   "source": [
    "### Etapa 1\n",
    "Análise exploratória dos dados\n",
    "Dataset: Medical Text Dataset - Cancer Doc \n",
    "Alunos: Adson Borges, Victor Fidelis"
   ]
  },
  {
   "cell_type": "markdown",
   "metadata": {},
   "source": [
    "Instalação de algumas bibliotecas utilizadas posteriormentes"
   ]
  },
  {
   "cell_type": "code",
   "execution_count": 107,
   "metadata": {},
   "outputs": [
    {
     "ename": "SyntaxError",
     "evalue": "invalid syntax (1073290119.py, line 3)",
     "output_type": "error",
     "traceback": [
      "\u001b[1;36m  Cell \u001b[1;32mIn[107], line 3\u001b[1;36m\u001b[0m\n\u001b[1;33m    pip install scikit\u001b[0m\n\u001b[1;37m        ^\u001b[0m\n\u001b[1;31mSyntaxError\u001b[0m\u001b[1;31m:\u001b[0m invalid syntax\n"
     ]
    }
   ],
   "source": [
    "#pip install WordCloud\n",
    "#!pip install seaborn"
   ]
  },
  {
   "cell_type": "markdown",
   "metadata": {},
   "source": [
    "Importação das bibliotecas utilizadas e a referenciação do arquivo do dataset Cancer Doc Classification"
   ]
  },
  {
   "cell_type": "code",
   "execution_count": 59,
   "metadata": {},
   "outputs": [
    {
     "data": {
      "text/html": [
       "<div>\n",
       "<style scoped>\n",
       "    .dataframe tbody tr th:only-of-type {\n",
       "        vertical-align: middle;\n",
       "    }\n",
       "\n",
       "    .dataframe tbody tr th {\n",
       "        vertical-align: top;\n",
       "    }\n",
       "\n",
       "    .dataframe thead th {\n",
       "        text-align: right;\n",
       "    }\n",
       "</style>\n",
       "<table border=\"1\" class=\"dataframe\">\n",
       "  <thead>\n",
       "    <tr style=\"text-align: right;\">\n",
       "      <th></th>\n",
       "      <th>labels</th>\n",
       "      <th>text</th>\n",
       "    </tr>\n",
       "  </thead>\n",
       "  <tbody>\n",
       "    <tr>\n",
       "      <th>0</th>\n",
       "      <td>Thyroid_Cancer</td>\n",
       "      <td>Thyroid surgery in  children in a single insti...</td>\n",
       "    </tr>\n",
       "    <tr>\n",
       "      <th>1</th>\n",
       "      <td>Thyroid_Cancer</td>\n",
       "      <td>\" The adopted strategy was the same as that us...</td>\n",
       "    </tr>\n",
       "    <tr>\n",
       "      <th>2</th>\n",
       "      <td>Thyroid_Cancer</td>\n",
       "      <td>coronary arterybypass grafting thrombosis ï¬b...</td>\n",
       "    </tr>\n",
       "    <tr>\n",
       "      <th>3</th>\n",
       "      <td>Thyroid_Cancer</td>\n",
       "      <td>Solitary plasmacytoma SP of the skull is an u...</td>\n",
       "    </tr>\n",
       "    <tr>\n",
       "      <th>4</th>\n",
       "      <td>Thyroid_Cancer</td>\n",
       "      <td>This study aimed to investigate serum matrix ...</td>\n",
       "    </tr>\n",
       "  </tbody>\n",
       "</table>\n",
       "</div>"
      ],
      "text/plain": [
       "           labels                                               text\n",
       "0  Thyroid_Cancer  Thyroid surgery in  children in a single insti...\n",
       "1  Thyroid_Cancer  \" The adopted strategy was the same as that us...\n",
       "2  Thyroid_Cancer  coronary arterybypass grafting thrombosis ï¬b...\n",
       "3  Thyroid_Cancer   Solitary plasmacytoma SP of the skull is an u...\n",
       "4  Thyroid_Cancer   This study aimed to investigate serum matrix ..."
      ]
     },
     "execution_count": 59,
     "metadata": {},
     "output_type": "execute_result"
    }
   ],
   "source": [
    "import numpy as np\n",
    "import pandas as pd\n",
    "import matplotlib.pyplot as plt\n",
    "import seaborn as sns\n",
    "from nltk.tokenize.treebank import TreebankWordDetokenizer\n",
    "from sklearn.feature_extraction.text import CountVectorizer\n",
    "from collections import Counter\n",
    "from wordcloud import WordCloud\n",
    "from tqdm import trange\n",
    "\n",
    "df=pd.read_csv('CancerDocClassification.csv', encoding='latin1')\n",
    "df = df.iloc[:,1:3]\n",
    "df.columns=['labels','text']\n",
    "df.head()\n"
   ]
  },
  {
   "cell_type": "markdown",
   "metadata": {},
   "source": [
    "Contagem das classes"
   ]
  },
  {
   "cell_type": "code",
   "execution_count": 60,
   "metadata": {},
   "outputs": [
    {
     "data": {
      "text/plain": [
       "labels\n",
       "Thyroid_Cancer    2810\n",
       "Colon_Cancer      2580\n",
       "Lung_Cancer       2180\n",
       "Name: count, dtype: int64"
      ]
     },
     "execution_count": 60,
     "metadata": {},
     "output_type": "execute_result"
    }
   ],
   "source": [
    "df['labels'].value_counts()"
   ]
  },
  {
   "cell_type": "markdown",
   "metadata": {},
   "source": [
    "Codificação das classes"
   ]
  },
  {
   "cell_type": "code",
   "execution_count": 61,
   "metadata": {},
   "outputs": [
    {
     "data": {
      "text/html": [
       "<div>\n",
       "<style scoped>\n",
       "    .dataframe tbody tr th:only-of-type {\n",
       "        vertical-align: middle;\n",
       "    }\n",
       "\n",
       "    .dataframe tbody tr th {\n",
       "        vertical-align: top;\n",
       "    }\n",
       "\n",
       "    .dataframe thead th {\n",
       "        text-align: right;\n",
       "    }\n",
       "</style>\n",
       "<table border=\"1\" class=\"dataframe\">\n",
       "  <thead>\n",
       "    <tr style=\"text-align: right;\">\n",
       "      <th></th>\n",
       "      <th>labels</th>\n",
       "      <th>text</th>\n",
       "    </tr>\n",
       "  </thead>\n",
       "  <tbody>\n",
       "    <tr>\n",
       "      <th>0</th>\n",
       "      <td>2</td>\n",
       "      <td>Thyroid surgery in  children in a single insti...</td>\n",
       "    </tr>\n",
       "    <tr>\n",
       "      <th>1</th>\n",
       "      <td>2</td>\n",
       "      <td>\" The adopted strategy was the same as that us...</td>\n",
       "    </tr>\n",
       "    <tr>\n",
       "      <th>2</th>\n",
       "      <td>2</td>\n",
       "      <td>coronary arterybypass grafting thrombosis ï¬b...</td>\n",
       "    </tr>\n",
       "    <tr>\n",
       "      <th>3</th>\n",
       "      <td>2</td>\n",
       "      <td>Solitary plasmacytoma SP of the skull is an u...</td>\n",
       "    </tr>\n",
       "    <tr>\n",
       "      <th>4</th>\n",
       "      <td>2</td>\n",
       "      <td>This study aimed to investigate serum matrix ...</td>\n",
       "    </tr>\n",
       "  </tbody>\n",
       "</table>\n",
       "</div>"
      ],
      "text/plain": [
       "   labels                                               text\n",
       "0       2  Thyroid surgery in  children in a single insti...\n",
       "1       2  \" The adopted strategy was the same as that us...\n",
       "2       2  coronary arterybypass grafting thrombosis ï¬b...\n",
       "3       2   Solitary plasmacytoma SP of the skull is an u...\n",
       "4       2   This study aimed to investigate serum matrix ..."
      ]
     },
     "execution_count": 61,
     "metadata": {},
     "output_type": "execute_result"
    }
   ],
   "source": [
    "from sklearn.preprocessing import LabelEncoder\n",
    "label_encoder = LabelEncoder()\n",
    "df['labels'] = label_encoder.fit_transform(df['labels'])\n",
    "df.head()"
   ]
  },
  {
   "cell_type": "markdown",
   "metadata": {},
   "source": [
    "Contagem das células vazias"
   ]
  },
  {
   "cell_type": "code",
   "execution_count": 62,
   "metadata": {},
   "outputs": [
    {
     "data": {
      "text/plain": [
       "labels    0\n",
       "text      0\n",
       "dtype: int64"
      ]
     },
     "execution_count": 62,
     "metadata": {},
     "output_type": "execute_result"
    }
   ],
   "source": [
    "df.isnull().sum()"
   ]
  },
  {
   "cell_type": "markdown",
   "metadata": {},
   "source": [
    "Contagem da quantidade de linhas que se repetem "
   ]
  },
  {
   "cell_type": "code",
   "execution_count": 63,
   "metadata": {},
   "outputs": [
    {
     "data": {
      "text/plain": [
       "6574"
      ]
     },
     "execution_count": 63,
     "metadata": {},
     "output_type": "execute_result"
    }
   ],
   "source": [
    "df.duplicated().sum()"
   ]
  },
  {
   "cell_type": "markdown",
   "metadata": {},
   "source": [
    "Descarte desses textos "
   ]
  },
  {
   "cell_type": "code",
   "execution_count": 64,
   "metadata": {},
   "outputs": [
    {
     "data": {
      "text/plain": [
       "0"
      ]
     },
     "execution_count": 64,
     "metadata": {},
     "output_type": "execute_result"
    }
   ],
   "source": [
    "df = df.drop_duplicates(keep='first')\n",
    "df= df.reset_index(drop=True)\n",
    "df.duplicated().sum()\n",
    "\n"
   ]
  },
  {
   "cell_type": "markdown",
   "metadata": {},
   "source": [
    "Verificar o formato do dataset com retirada dos textos duplicados"
   ]
  },
  {
   "cell_type": "code",
   "execution_count": 65,
   "metadata": {},
   "outputs": [
    {
     "data": {
      "text/plain": [
       "(996, 2)"
      ]
     },
     "execution_count": 65,
     "metadata": {},
     "output_type": "execute_result"
    }
   ],
   "source": [
    "df.shape"
   ]
  },
  {
   "cell_type": "markdown",
   "metadata": {},
   "source": [
    "Recontagem das classes"
   ]
  },
  {
   "cell_type": "code",
   "execution_count": 66,
   "metadata": {},
   "outputs": [
    {
     "data": {
      "text/plain": [
       "labels\n",
       "1    452\n",
       "2    283\n",
       "0    261\n",
       "Name: count, dtype: int64"
      ]
     },
     "execution_count": 66,
     "metadata": {},
     "output_type": "execute_result"
    }
   ],
   "source": [
    "tmp = df['labels'].value_counts()\n",
    "tmp"
   ]
  },
  {
   "cell_type": "markdown",
   "metadata": {},
   "source": [
    "Plotar gráfico de barras referente à quantidade de textos por classes"
   ]
  },
  {
   "cell_type": "code",
   "execution_count": 67,
   "metadata": {},
   "outputs": [
    {
     "data": {
      "image/png": "[encoded data removed]",
      "text/plain": [
       "<Figure size 640x480 with 1 Axes>"
      ]
     },
     "metadata": {},
     "output_type": "display_data"
    }
   ],
   "source": [
    "tmp.plot(kind='bar')\n",
    "plt.ylabel('Contagem')\n",
    "plt.title('Distribuição dos tipos de Cancer')\n",
    "plt.xticks(rotation=45)\n",
    "plt.show()"
   ]
  },
  {
   "cell_type": "markdown",
   "metadata": {},
   "source": [
    "Transformar todos caracteres em minúsculo e remover sinais de pontuação"
   ]
  },
  {
   "cell_type": "code",
   "execution_count": 68,
   "metadata": {},
   "outputs": [
    {
     "name": "stdout",
     "output_type": "stream",
     "text": [
      "     labels                                               text\n",
      "0         2  thyroid surgery in  children in a single insti...\n",
      "1         2   the adopted strategy was the same as that use...\n",
      "2         2  coronary arterybypass grafting thrombosis ï¬b...\n",
      "3         2   solitary plasmacytoma sp of the skull is an u...\n",
      "4         2   this study aimed to investigate serum matrix ...\n",
      "..      ...                                                ...\n",
      "991       1  missense mutation distribution in the exons an...\n",
      "992       1  versus gemcitabinecarboplatin in advanced nons...\n",
      "993       2   keloids are pathological scars that grow over...\n",
      "994       0  the anization of cells into multiple membranou...\n",
      "995       0  several immunotherapeutic strategies that harn...\n",
      "\n",
      "[996 rows x 2 columns]\n"
     ]
    }
   ],
   "source": [
    "import string\n",
    "\n",
    "def clean_text(text):\n",
    "    text = text.lower()\n",
    "    text = text.translate(str.maketrans('','', string.punctuation))\n",
    "    return text\n",
    "\n",
    "df['text'] = df['text'].apply(clean_text)\n",
    "\n",
    "print(df)\n"
   ]
  },
  {
   "cell_type": "markdown",
   "metadata": {},
   "source": [
    "instalação algumas bibliotecas e recursos que serão utilizados"
   ]
  },
  {
   "cell_type": "code",
   "execution_count": 69,
   "metadata": {},
   "outputs": [],
   "source": [
    "#import nltk\n",
    "#nltk.download('stopwords')\n",
    "#nltk.download('punkt')\n",
    "#nltk.download('wordnet')\n",
    "#nltk.download('omw-1.4')"
   ]
  },
  {
   "cell_type": "markdown",
   "metadata": {},
   "source": [
    "Tokenização, removeção de stopwords e lemmatização dos textos "
   ]
  },
  {
   "cell_type": "code",
   "execution_count": 70,
   "metadata": {},
   "outputs": [
    {
     "name": "stdout",
     "output_type": "stream",
     "text": [
      "     labels                                               text  \\\n",
      "0         2  thyroid surgery in  children in a single insti...   \n",
      "1         2   the adopted strategy was the same as that use...   \n",
      "2         2  coronary arterybypass grafting thrombosis ï¬b...   \n",
      "3         2   solitary plasmacytoma sp of the skull is an u...   \n",
      "4         2   this study aimed to investigate serum matrix ...   \n",
      "..      ...                                                ...   \n",
      "991       1  missense mutation distribution in the exons an...   \n",
      "992       1  versus gemcitabinecarboplatin in advanced nons...   \n",
      "993       2   keloids are pathological scars that grow over...   \n",
      "994       0  the anization of cells into multiple membranou...   \n",
      "995       0  several immunotherapeutic strategies that harn...   \n",
      "\n",
      "                                                tokens  \n",
      "0    [thyroid, surgery, child, single, institution,...  \n",
      "1    [adopted, strategy, used, prior, year, based, ...  \n",
      "2    [coronary, arterybypass, grafting, thrombosis,...  \n",
      "3    [solitary, plasmacytoma, sp, skull, uncommon, ...  \n",
      "4    [study, aimed, investigate, serum, matrix, met...  \n",
      "..                                                 ...  \n",
      "991  [missense, mutation, distribution, exon, funct...  \n",
      "992  [versus, gemcitabinecarboplatin, advanced, non...  \n",
      "993  [keloid, pathological, scar, grow, time, exten...  \n",
      "994  [anization, cell, multiple, membranous, compar...  \n",
      "995  [several, immunotherapeutic, strategy, harness...  \n",
      "\n",
      "[996 rows x 3 columns]\n"
     ]
    }
   ],
   "source": [
    "from nltk.corpus import stopwords\n",
    "from nltk.tokenize import word_tokenize\n",
    "from nltk.stem import WordNetLemmatizer\n",
    "\n",
    "stop_words = set(stopwords.words('english'))\n",
    "stop_words.add(\"\\x93\")\n",
    "stop_words.add(\"et\")\n",
    "stop_words.add(\"al\")\n",
    "stop_words.add(\"a0al\")\n",
    "\n",
    "lemmatizer = WordNetLemmatizer()\n",
    "\n",
    "\n",
    "def preprocess_text(text):\n",
    "    words = word_tokenize(text)  # Tokenizar o texto\n",
    "    filtered_words = [word for word in words if word.lower() not in stop_words]  # Remover stopwords\n",
    "    lemmatized_words = [lemmatizer.lemmatize(words) for words in filtered_words]  # Lemmatizar\n",
    "    return lemmatized_words\n",
    "\n",
    "# Aplicar a função ao DataFrame\n",
    "df['tokens'] = df['text'].apply(preprocess_text)\n",
    "\n",
    "print(df)"
   ]
  },
  {
   "cell_type": "markdown",
   "metadata": {},
   "source": [
    "Contagem de palavras, bigramas e trigramas"
   ]
  },
  {
   "cell_type": "code",
   "execution_count": 72,
   "metadata": {},
   "outputs": [
    {
     "data": {
      "text/plain": [
       "[('cell', 25347),\n",
       " ('cancer', 19807),\n",
       " ('patient', 16727),\n",
       " ('study', 12300),\n",
       " ('expression', 9739),\n",
       " ('tumor', 8822),\n",
       " ('gene', 8153),\n",
       " ('lung', 7850),\n",
       " ('analysis', 6765),\n",
       " ('data', 6720)]"
      ]
     },
     "execution_count": 72,
     "metadata": {},
     "output_type": "execute_result"
    }
   ],
   "source": [
    "mostCommon = Counter(corpus).most_common(10)\n",
    "mostCommon"
   ]
  },
  {
   "cell_type": "code",
   "execution_count": 73,
   "metadata": {},
   "outputs": [],
   "source": [
    "words = []\n",
    "freq = []\n",
    "for word, count in mostCommon:\n",
    "    words.append(word)\n",
    "    freq.append(count)"
   ]
  },
  {
   "cell_type": "code",
   "execution_count": 74,
   "metadata": {},
   "outputs": [
    {
     "data": {
      "image/png": "[encoded data removed]",
      "text/plain": [
       "<Figure size 640x480 with 1 Axes>"
      ]
     },
     "metadata": {},
     "output_type": "display_data"
    }
   ],
   "source": [
    "sns.barplot(x=freq, y=words)\n",
    "plt.title('10 palavras mais recorrentes')\n",
    "plt.show()"
   ]
  },
  {
   "cell_type": "code",
   "execution_count": 80,
   "metadata": {},
   "outputs": [
    {
     "data": {
      "image/png": "[encoded data removed]",
      "text/plain": [
       "<Figure size 640x480 with 1 Axes>"
      ]
     },
     "metadata": {},
     "output_type": "display_data"
    }
   ],
   "source": [
    "cv = CountVectorizer(ngram_range=(2,2))\n",
    "bigrams=cv.fit_transform(df['text'])\n",
    "\n",
    "count_values = bigrams.toarray().sum(axis=0)\n",
    "ngram_freq = pd.DataFrame(sorted([(count_values[i], k) for k, i in cv.vocabulary_.items()], reverse = True))\n",
    "ngram_freq.columns = [\"frequency\", \"ngram\"]\n",
    "\n",
    "sns.barplot(x=ngram_freq['frequency'][:10], y=ngram_freq['ngram'][:10])\n",
    "plt.title('10 bigramas mais recorrentes')\n",
    "plt.show()\n"
   ]
  },
  {
   "cell_type": "code",
   "execution_count": 81,
   "metadata": {},
   "outputs": [
    {
     "ename": "MemoryError",
     "evalue": "Unable to allocate 12.7 GiB for an array with shape (996, 1711090) and data type int64",
     "output_type": "error",
     "traceback": [
      "\u001b[1;31m---------------------------------------------------------------------------\u001b[0m",
      "\u001b[1;31mMemoryError\u001b[0m                               Traceback (most recent call last)",
      "Cell \u001b[1;32mIn[81], line 3\u001b[0m\n\u001b[0;32m      1\u001b[0m cv1 \u001b[38;5;241m=\u001b[39m CountVectorizer(ngram_range\u001b[38;5;241m=\u001b[39m(\u001b[38;5;241m3\u001b[39m,\u001b[38;5;241m3\u001b[39m))\n\u001b[0;32m      2\u001b[0m trigrams \u001b[38;5;241m=\u001b[39m cv1\u001b[38;5;241m.\u001b[39mfit_transform(df[\u001b[38;5;124m'\u001b[39m\u001b[38;5;124mtext\u001b[39m\u001b[38;5;124m'\u001b[39m])\n\u001b[1;32m----> 3\u001b[0m count_values \u001b[38;5;241m=\u001b[39m \u001b[43mtrigrams\u001b[49m\u001b[38;5;241;43m.\u001b[39;49m\u001b[43mtoarray\u001b[49m\u001b[43m(\u001b[49m\u001b[43m)\u001b[49m\u001b[38;5;241m.\u001b[39msum(axis\u001b[38;5;241m=\u001b[39m\u001b[38;5;241m0\u001b[39m)\n\u001b[0;32m      4\u001b[0m ngram_freq \u001b[38;5;241m=\u001b[39m pd\u001b[38;5;241m.\u001b[39mDataFrame(\u001b[38;5;28msorted\u001b[39m([(count_values[i], k) \u001b[38;5;28;01mfor\u001b[39;00m k, i \u001b[38;5;129;01min\u001b[39;00m cv1\u001b[38;5;241m.\u001b[39mvocabulary_\u001b[38;5;241m.\u001b[39mitems()], reverse \u001b[38;5;241m=\u001b[39m \u001b[38;5;28;01mTrue\u001b[39;00m))\n\u001b[0;32m      5\u001b[0m ngram_freq\u001b[38;5;241m.\u001b[39mcolumns \u001b[38;5;241m=\u001b[39m [\u001b[38;5;124m\"\u001b[39m\u001b[38;5;124mfrequency\u001b[39m\u001b[38;5;124m\"\u001b[39m, \u001b[38;5;124m\"\u001b[39m\u001b[38;5;124mngram\u001b[39m\u001b[38;5;124m\"\u001b[39m]\n",
      "File \u001b[1;32mc:\\Users\\Adson\\AppData\\Local\\Programs\\Python\\Python312\\Lib\\site-packages\\scipy\\sparse\\_compressed.py:1181\u001b[0m, in \u001b[0;36m_cs_matrix.toarray\u001b[1;34m(self, order, out)\u001b[0m\n\u001b[0;32m   1179\u001b[0m \u001b[38;5;28;01mif\u001b[39;00m out \u001b[38;5;129;01mis\u001b[39;00m \u001b[38;5;28;01mNone\u001b[39;00m \u001b[38;5;129;01mand\u001b[39;00m order \u001b[38;5;129;01mis\u001b[39;00m \u001b[38;5;28;01mNone\u001b[39;00m:\n\u001b[0;32m   1180\u001b[0m     order \u001b[38;5;241m=\u001b[39m \u001b[38;5;28mself\u001b[39m\u001b[38;5;241m.\u001b[39m_swap(\u001b[38;5;124m'\u001b[39m\u001b[38;5;124mcf\u001b[39m\u001b[38;5;124m'\u001b[39m)[\u001b[38;5;241m0\u001b[39m]\n\u001b[1;32m-> 1181\u001b[0m out \u001b[38;5;241m=\u001b[39m \u001b[38;5;28;43mself\u001b[39;49m\u001b[38;5;241;43m.\u001b[39;49m\u001b[43m_process_toarray_args\u001b[49m\u001b[43m(\u001b[49m\u001b[43morder\u001b[49m\u001b[43m,\u001b[49m\u001b[43m \u001b[49m\u001b[43mout\u001b[49m\u001b[43m)\u001b[49m\n\u001b[0;32m   1182\u001b[0m \u001b[38;5;28;01mif\u001b[39;00m \u001b[38;5;129;01mnot\u001b[39;00m (out\u001b[38;5;241m.\u001b[39mflags\u001b[38;5;241m.\u001b[39mc_contiguous \u001b[38;5;129;01mor\u001b[39;00m out\u001b[38;5;241m.\u001b[39mflags\u001b[38;5;241m.\u001b[39mf_contiguous):\n\u001b[0;32m   1183\u001b[0m     \u001b[38;5;28;01mraise\u001b[39;00m \u001b[38;5;167;01mValueError\u001b[39;00m(\u001b[38;5;124m'\u001b[39m\u001b[38;5;124mOutput array must be C or F contiguous\u001b[39m\u001b[38;5;124m'\u001b[39m)\n",
      "File \u001b[1;32mc:\\Users\\Adson\\AppData\\Local\\Programs\\Python\\Python312\\Lib\\site-packages\\scipy\\sparse\\_base.py:1301\u001b[0m, in \u001b[0;36m_spbase._process_toarray_args\u001b[1;34m(self, order, out)\u001b[0m\n\u001b[0;32m   1299\u001b[0m     \u001b[38;5;28;01mreturn\u001b[39;00m out\n\u001b[0;32m   1300\u001b[0m \u001b[38;5;28;01melse\u001b[39;00m:\n\u001b[1;32m-> 1301\u001b[0m     \u001b[38;5;28;01mreturn\u001b[39;00m \u001b[43mnp\u001b[49m\u001b[38;5;241;43m.\u001b[39;49m\u001b[43mzeros\u001b[49m\u001b[43m(\u001b[49m\u001b[38;5;28;43mself\u001b[39;49m\u001b[38;5;241;43m.\u001b[39;49m\u001b[43mshape\u001b[49m\u001b[43m,\u001b[49m\u001b[43m \u001b[49m\u001b[43mdtype\u001b[49m\u001b[38;5;241;43m=\u001b[39;49m\u001b[38;5;28;43mself\u001b[39;49m\u001b[38;5;241;43m.\u001b[39;49m\u001b[43mdtype\u001b[49m\u001b[43m,\u001b[49m\u001b[43m \u001b[49m\u001b[43morder\u001b[49m\u001b[38;5;241;43m=\u001b[39;49m\u001b[43morder\u001b[49m\u001b[43m)\u001b[49m\n",
      "\u001b[1;31mMemoryError\u001b[0m: Unable to allocate 12.7 GiB for an array with shape (996, 1711090) and data type int64"
     ]
    }
   ],
   "source": [
    "cv1 = CountVectorizer(ngram_range=(3,3))\n",
    "trigrams = cv1.fit_transform(df['text'])\n",
    "count_values = trigrams.toarray().sum(axis=0)\n",
    "ngram_freq = pd.DataFrame(sorted([(count_values[i], k) for k, i in cv1.vocabulary_.items()], reverse = True))\n",
    "ngram_freq.columns = [\"frequency\", \"ngram\"]\n",
    "\n",
    "sns.barplot(x=ngram_freq['frequency'][:10], y=ngram_freq['ngram'][:10])\n",
    "plt.title('10 trigramas mais recorrentes')\n",
    "plt.show()"
   ]
  },
  {
   "cell_type": "markdown",
   "metadata": {},
   "source": [
    "### Naive Bayes"
   ]
  },
  {
   "cell_type": "code",
   "execution_count": 93,
   "metadata": {},
   "outputs": [],
   "source": [
    "from sklearn.model_selection import train_test_split\n",
    "from sklearn.feature_extraction.text import TfidfVectorizer\n",
    "\n",
    "# Dividir o dataset em conjunto de treinamento e teste\n",
    "X_train, X_test, y_train, y_test = train_test_split(df['tokens'], df['labels'], test_size=0.2, random_state=42)\n",
    "\n",
    "# Converter os textos em vetores TF-IDF\n",
    "vectorizer = TfidfVectorizer(stop_words= list(stop_words), max_df=0.7)\n",
    "X_train_tfidf = vectorizer.fit_transform(X_train)\n",
    "X_test_tfidf = vectorizer.transform(X_test)"
   ]
  },
  {
   "cell_type": "code",
   "execution_count": 94,
   "metadata": {},
   "outputs": [],
   "source": [
    "from sklearn.naive_bayes import MultinomialNB\n",
    "\n",
    "# Treinar o modelo Naive Bayes\n",
    "nb_classifier = MultinomialNB()\n",
    "nb_classifier.fit(X_train_tfidf, y_train)\n",
    "\n",
    "# Fazer previsões no conjunto de teste\n",
    "y_pred = nb_classifier.predict(X_test_tfidf)"
   ]
  },
  {
   "cell_type": "code",
   "execution_count": 97,
   "metadata": {},
   "outputs": [
    {
     "name": "stdout",
     "output_type": "stream",
     "text": [
      "Acurácia: 47.50%\n",
      "Precisão (Weighted): 45.79%\n",
      "Recall (Weighted): 47.50%\n",
      "F1-Score (Weighted): 33.85%\n",
      "\n",
      "Relatório de Classificação:\n",
      "               precision    recall  f1-score   support\n",
      "\n",
      "           0       0.33      0.02      0.03        55\n",
      "           1       0.47      1.00      0.64        89\n",
      "           2       0.56      0.09      0.15        56\n",
      "\n",
      "    accuracy                           0.47       200\n",
      "   macro avg       0.45      0.37      0.28       200\n",
      "weighted avg       0.46      0.47      0.34       200\n",
      "\n"
     ]
    }
   ],
   "source": [
    "from sklearn.metrics import accuracy_score, precision_score, recall_score, f1_score, classification_report\n",
    "\n",
    "# Acurácia\n",
    "accuracy = accuracy_score(y_test, y_pred)\n",
    "print(f'Acurácia: {accuracy * 100:.2f}%')\n",
    "\n",
    "# Precisão média ponderada (considera o desbalanceamento de classes)\n",
    "precision = precision_score(y_test, y_pred, average='weighted')\n",
    "print(f'Precisão (Weighted): {precision * 100:.2f}%')\n",
    "\n",
    "# Recall médio ponderado\n",
    "recall = recall_score(y_test, y_pred, average='weighted')\n",
    "print(f'Recall (Weighted): {recall * 100:.2f}%')\n",
    "\n",
    "# F1-score médio ponderado\n",
    "f1 = f1_score(y_test, y_pred, average='weighted')\n",
    "print(f'F1-Score (Weighted): {f1 * 100:.2f}%')\n",
    "\n",
    "# Relatório de Classificação Completo\n",
    "print(\"\\nRelatório de Classificação:\\n\", classification_report(y_test, y_pred))"
   ]
  },
  {
   "cell_type": "markdown",
   "metadata": {},
   "source": [
    "### Bi-LSTM"
   ]
  },
  {
   "cell_type": "code",
   "execution_count": 98,
   "metadata": {},
   "outputs": [
    {
     "name": "stdout",
     "output_type": "stream",
     "text": [
      "Collecting tensorflow\n",
      "  Using cached tensorflow-2.17.0-cp312-cp312-win_amd64.whl.metadata (3.2 kB)\n",
      "Requirement already satisfied: tensorflow-intel==2.17.0 in c:\\users\\adson\\appdata\\local\\programs\\python\\python312\\lib\\site-packages (from tensorflow) (2.17.0)\n",
      "Requirement already satisfied: absl-py>=1.0.0 in c:\\users\\adson\\appdata\\local\\programs\\python\\python312\\lib\\site-packages (from tensorflow-intel==2.17.0->tensorflow) (2.1.0)\n",
      "Requirement already satisfied: astunparse>=1.6.0 in c:\\users\\adson\\appdata\\local\\programs\\python\\python312\\lib\\site-packages (from tensorflow-intel==2.17.0->tensorflow) (1.6.3)\n",
      "Requirement already satisfied: flatbuffers>=24.3.25 in c:\\users\\adson\\appdata\\local\\programs\\python\\python312\\lib\\site-packages (from tensorflow-intel==2.17.0->tensorflow) (24.3.25)\n",
      "Requirement already satisfied: gast!=0.5.0,!=0.5.1,!=0.5.2,>=0.2.1 in c:\\users\\adson\\appdata\\local\\programs\\python\\python312\\lib\\site-packages (from tensorflow-intel==2.17.0->tensorflow) (0.6.0)\n",
      "Requirement already satisfied: google-pasta>=0.1.1 in c:\\users\\adson\\appdata\\local\\programs\\python\\python312\\lib\\site-packages (from tensorflow-intel==2.17.0->tensorflow) (0.2.0)\n",
      "Requirement already satisfied: h5py>=3.10.0 in c:\\users\\adson\\appdata\\local\\programs\\python\\python312\\lib\\site-packages (from tensorflow-intel==2.17.0->tensorflow) (3.11.0)\n",
      "Requirement already satisfied: libclang>=13.0.0 in c:\\users\\adson\\appdata\\local\\programs\\python\\python312\\lib\\site-packages (from tensorflow-intel==2.17.0->tensorflow) (18.1.1)\n",
      "Requirement already satisfied: ml-dtypes<0.5.0,>=0.3.1 in c:\\users\\adson\\appdata\\local\\programs\\python\\python312\\lib\\site-packages (from tensorflow-intel==2.17.0->tensorflow) (0.4.0)\n",
      "Requirement already satisfied: opt-einsum>=2.3.2 in c:\\users\\adson\\appdata\\local\\programs\\python\\python312\\lib\\site-packages (from tensorflow-intel==2.17.0->tensorflow) (3.3.0)\n",
      "Requirement already satisfied: packaging in c:\\users\\adson\\appdata\\roaming\\python\\python312\\site-packages (from tensorflow-intel==2.17.0->tensorflow) (24.1)\n",
      "Requirement already satisfied: protobuf!=4.21.0,!=4.21.1,!=4.21.2,!=4.21.3,!=4.21.4,!=4.21.5,<5.0.0dev,>=3.20.3 in c:\\users\\adson\\appdata\\local\\programs\\python\\python312\\lib\\site-packages (from tensorflow-intel==2.17.0->tensorflow) (4.25.4)\n",
      "Requirement already satisfied: requests<3,>=2.21.0 in c:\\users\\adson\\appdata\\local\\programs\\python\\python312\\lib\\site-packages (from tensorflow-intel==2.17.0->tensorflow) (2.32.3)\n",
      "Requirement already satisfied: setuptools in c:\\users\\adson\\appdata\\local\\programs\\python\\python312\\lib\\site-packages (from tensorflow-intel==2.17.0->tensorflow) (72.1.0)\n",
      "Requirement already satisfied: six>=1.12.0 in c:\\users\\adson\\appdata\\local\\programs\\python\\python312\\lib\\site-packages (from tensorflow-intel==2.17.0->tensorflow) (1.16.0)\n",
      "Requirement already satisfied: termcolor>=1.1.0 in c:\\users\\adson\\appdata\\local\\programs\\python\\python312\\lib\\site-packages (from tensorflow-intel==2.17.0->tensorflow) (2.4.0)\n",
      "Requirement already satisfied: typing-extensions>=3.6.6 in c:\\users\\adson\\appdata\\local\\programs\\python\\python312\\lib\\site-packages (from tensorflow-intel==2.17.0->tensorflow) (4.12.2)\n",
      "Requirement already satisfied: wrapt>=1.11.0 in c:\\users\\adson\\appdata\\local\\programs\\python\\python312\\lib\\site-packages (from tensorflow-intel==2.17.0->tensorflow) (1.16.0)\n",
      "Requirement already satisfied: grpcio<2.0,>=1.24.3 in c:\\users\\adson\\appdata\\local\\programs\\python\\python312\\lib\\site-packages (from tensorflow-intel==2.17.0->tensorflow) (1.65.1)\n",
      "Requirement already satisfied: tensorboard<2.18,>=2.17 in c:\\users\\adson\\appdata\\local\\programs\\python\\python312\\lib\\site-packages (from tensorflow-intel==2.17.0->tensorflow) (2.17.0)\n",
      "Requirement already satisfied: keras>=3.2.0 in c:\\users\\adson\\appdata\\local\\programs\\python\\python312\\lib\\site-packages (from tensorflow-intel==2.17.0->tensorflow) (3.4.1)\n",
      "Requirement already satisfied: numpy<2.0.0,>=1.26.0 in c:\\users\\adson\\appdata\\local\\programs\\python\\python312\\lib\\site-packages (from tensorflow-intel==2.17.0->tensorflow) (1.26.4)\n",
      "Requirement already satisfied: wheel<1.0,>=0.23.0 in c:\\users\\adson\\appdata\\local\\programs\\python\\python312\\lib\\site-packages (from astunparse>=1.6.0->tensorflow-intel==2.17.0->tensorflow) (0.43.0)\n",
      "Requirement already satisfied: rich in c:\\users\\adson\\appdata\\local\\programs\\python\\python312\\lib\\site-packages (from keras>=3.2.0->tensorflow-intel==2.17.0->tensorflow) (13.7.1)\n",
      "Requirement already satisfied: namex in c:\\users\\adson\\appdata\\local\\programs\\python\\python312\\lib\\site-packages (from keras>=3.2.0->tensorflow-intel==2.17.0->tensorflow) (0.0.8)\n",
      "Requirement already satisfied: optree in c:\\users\\adson\\appdata\\local\\programs\\python\\python312\\lib\\site-packages (from keras>=3.2.0->tensorflow-intel==2.17.0->tensorflow) (0.12.1)\n",
      "Requirement already satisfied: charset-normalizer<4,>=2 in c:\\users\\adson\\appdata\\local\\programs\\python\\python312\\lib\\site-packages (from requests<3,>=2.21.0->tensorflow-intel==2.17.0->tensorflow) (3.3.2)\n",
      "Requirement already satisfied: idna<4,>=2.5 in c:\\users\\adson\\appdata\\local\\programs\\python\\python312\\lib\\site-packages (from requests<3,>=2.21.0->tensorflow-intel==2.17.0->tensorflow) (3.7)\n",
      "Requirement already satisfied: urllib3<3,>=1.21.1 in c:\\users\\adson\\appdata\\local\\programs\\python\\python312\\lib\\site-packages (from requests<3,>=2.21.0->tensorflow-intel==2.17.0->tensorflow) (2.2.2)\n",
      "Requirement already satisfied: certifi>=2017.4.17 in c:\\users\\adson\\appdata\\local\\programs\\python\\python312\\lib\\site-packages (from requests<3,>=2.21.0->tensorflow-intel==2.17.0->tensorflow) (2024.7.4)\n",
      "Requirement already satisfied: markdown>=2.6.8 in c:\\users\\adson\\appdata\\local\\programs\\python\\python312\\lib\\site-packages (from tensorboard<2.18,>=2.17->tensorflow-intel==2.17.0->tensorflow) (3.6)\n",
      "Requirement already satisfied: tensorboard-data-server<0.8.0,>=0.7.0 in c:\\users\\adson\\appdata\\local\\programs\\python\\python312\\lib\\site-packages (from tensorboard<2.18,>=2.17->tensorflow-intel==2.17.0->tensorflow) (0.7.2)\n",
      "Requirement already satisfied: werkzeug>=1.0.1 in c:\\users\\adson\\appdata\\local\\programs\\python\\python312\\lib\\site-packages (from tensorboard<2.18,>=2.17->tensorflow-intel==2.17.0->tensorflow) (3.0.3)\n",
      "Requirement already satisfied: MarkupSafe>=2.1.1 in c:\\users\\adson\\appdata\\local\\programs\\python\\python312\\lib\\site-packages (from werkzeug>=1.0.1->tensorboard<2.18,>=2.17->tensorflow-intel==2.17.0->tensorflow) (2.1.5)\n",
      "Requirement already satisfied: markdown-it-py>=2.2.0 in c:\\users\\adson\\appdata\\local\\programs\\python\\python312\\lib\\site-packages (from rich->keras>=3.2.0->tensorflow-intel==2.17.0->tensorflow) (3.0.0)\n",
      "Requirement already satisfied: pygments<3.0.0,>=2.13.0 in c:\\users\\adson\\appdata\\roaming\\python\\python312\\site-packages (from rich->keras>=3.2.0->tensorflow-intel==2.17.0->tensorflow) (2.18.0)\n",
      "Requirement already satisfied: mdurl~=0.1 in c:\\users\\adson\\appdata\\local\\programs\\python\\python312\\lib\\site-packages (from markdown-it-py>=2.2.0->rich->keras>=3.2.0->tensorflow-intel==2.17.0->tensorflow) (0.1.2)\n",
      "Using cached tensorflow-2.17.0-cp312-cp312-win_amd64.whl (2.0 kB)\n",
      "Installing collected packages: tensorflow\n",
      "Successfully installed tensorflow-2.17.0\n",
      "Note: you may need to restart the kernel to use updated packages.\n"
     ]
    },
    {
     "name": "stderr",
     "output_type": "stream",
     "text": [
      "\n",
      "[notice] A new release of pip is available: 24.0 -> 24.2\n",
      "[notice] To update, run: python.exe -m pip install --upgrade pip\n"
     ]
    }
   ],
   "source": [
    "#pip install tensorflow"
   ]
  },
  {
   "cell_type": "code",
   "execution_count": 114,
   "metadata": {},
   "outputs": [
    {
     "ename": "SyntaxError",
     "evalue": "invalid decimal literal (<unknown>, line 1)",
     "output_type": "error",
     "traceback": [
      "Traceback \u001b[1;36m(most recent call last)\u001b[0m:\n",
      "\u001b[0m  File \u001b[0;32m~\\AppData\\Roaming\\Python\\Python312\\site-packages\\IPython\\core\\interactiveshell.py:3577\u001b[0m in \u001b[0;35mrun_code\u001b[0m\n    exec(code_obj, self.user_global_ns, self.user_ns)\u001b[0m\n",
      "\u001b[0m  Cell \u001b[0;32mIn[114], line 12\u001b[0m\n    df['tokens'] = df['tokens'].apply(lambda x: ast.literal_eval(x))\u001b[0m\n",
      "\u001b[0m  File \u001b[0;32mc:\\Users\\Adson\\AppData\\Local\\Programs\\Python\\Python312\\Lib\\site-packages\\pandas\\core\\series.py:4924\u001b[0m in \u001b[0;35mapply\u001b[0m\n    ).apply()\u001b[0m\n",
      "\u001b[0m  File \u001b[0;32mc:\\Users\\Adson\\AppData\\Local\\Programs\\Python\\Python312\\Lib\\site-packages\\pandas\\core\\apply.py:1427\u001b[0m in \u001b[0;35mapply\u001b[0m\n    return self.apply_standard()\u001b[0m\n",
      "\u001b[0m  File \u001b[0;32mc:\\Users\\Adson\\AppData\\Local\\Programs\\Python\\Python312\\Lib\\site-packages\\pandas\\core\\apply.py:1507\u001b[0m in \u001b[0;35mapply_standard\u001b[0m\n    mapped = obj._map_values(\u001b[0m\n",
      "\u001b[0m  File \u001b[0;32mc:\\Users\\Adson\\AppData\\Local\\Programs\\Python\\Python312\\Lib\\site-packages\\pandas\\core\\base.py:921\u001b[0m in \u001b[0;35m_map_values\u001b[0m\n    return algorithms.map_array(arr, mapper, na_action=na_action, convert=convert)\u001b[0m\n",
      "\u001b[0m  File \u001b[0;32mc:\\Users\\Adson\\AppData\\Local\\Programs\\Python\\Python312\\Lib\\site-packages\\pandas\\core\\algorithms.py:1743\u001b[0m in \u001b[0;35mmap_array\u001b[0m\n    return lib.map_infer(values, mapper, convert=convert)\u001b[0m\n",
      "\u001b[0m  File \u001b[0;32mlib.pyx:2972\u001b[0m in \u001b[0;35mpandas._libs.lib.map_infer\u001b[0m\n",
      "\u001b[0m  Cell \u001b[0;32mIn[114], line 12\u001b[0m in \u001b[0;35m<lambda>\u001b[0m\n    df['tokens'] = df['tokens'].apply(lambda x: ast.literal_eval(x))\u001b[0m\n",
      "\u001b[0m  File \u001b[0;32mc:\\Users\\Adson\\AppData\\Local\\Programs\\Python\\Python312\\Lib\\ast.py:66\u001b[0m in \u001b[0;35mliteral_eval\u001b[0m\n    node_or_string = parse(node_or_string.lstrip(\" \\t\"), mode='eval')\u001b[0m\n",
      "\u001b[1;36m  File \u001b[1;32mc:\\Users\\Adson\\AppData\\Local\\Programs\\Python\\Python312\\Lib\\ast.py:52\u001b[1;36m in \u001b[1;35mparse\u001b[1;36m\n\u001b[1;33m    return compile(source, filename, mode, flags,\u001b[1;36m\n",
      "\u001b[1;36m  File \u001b[1;32m<unknown>:1\u001b[1;36m\u001b[0m\n\u001b[1;33m    thyroid surgery child single institution osama ibrahim almosallama ali aseerib ahmed alhumaida ali alzahranic saif alsobhib saud alshanafeybfrom adepartment surgery college medicine qassim university buraidah qassim saudi arabia bdepartment surgery king faisal specialist hospital research center riyadh saudi arabia cdepartment medicine king faisal specialist hospital research center riyadh saudi arabia correspondence dr osama ibrahim almosallam department surgery college medicine qassim university po box buraidah qassim saudi arabia osamaiaahotmailcom orcid orcid0000000290367564 citation almosallam oi aseeri alhumaid alzahrani alsobhi alshanafey thyroid surgery child single institution ann saudi med received january accepted may published august copyright copyright annals saudi medicine saudi arabia access creative common attributionnoncommercialnoderivatives international license cc byncnd detail accessed httpcreativecommons licensesbyncnd40funding nonebackground data thyroid surgery child scarceobjective analyze outcome data thyroid surgery pediatric populationdesign medical record reviewsetting tertiary health care institutionpatients method collected demographic clinical data patient year younger thyroid surgery period descriptive data presentedmain outcome measure indication thyroidectomy thyroid pathology complication length stay radioactive iodine treatment recurrencessample size result patient underwent thyroidectomy procedure female mean age operation year associated multiple endocrine neoplasia type history radiation exposure eightyone patient fine needle aspiration fna correlated final histopathology case sixtysix patient malignant cancer papillary patient neck dissection lymph node metastasis distant metastasis lung procedure included total thyroidectomy hemithyroidectomy completion subtotal thyroidectomy twentythree patient developed hypocalcemia permanent unilateral recurrent laryngeal nerve injury permanent patient followed mean duration month median month patient thyroid cancer received radioactive iodine recurrence malignancy commonest indication thyroid surgery child fna highly diagnostic hypocalcemia recurrent laryngeal nerve injury significant complication recurrence rate thyroid cancer limitation retrospectiveconflict interest noneoriginal ann saudi med julyaugust wwwannsaudimednet 0cthyroid disease requiring surgery relatively uncommon child compared adult prevalence palpable thyroid nodule child range sporadic welldifferentiated thyroid cancer common endocrine malignancy child accounting pediatric cancer prepubertal age group cancer adolescent aged year2 common indication thyroid surgery child varies among published study thyroidectomy malignant condition rising38 data child throughout world relatively scarce objective study analyze clinical data outcome thyroid surgery large series child treated single center king faisal specialist hospital research center kfshrc riyadhpatient method approval institutional review board irb kfshrc medical record patient year old younger underwent thyroid surgery retrospectively reviewed elected include patient year ensure reasonable followup period patient study identified search operating room log procedure involving thyroid gland specified age groupdemographic data clinical feature surgical outcome collected specific data obtained included age operation gender family history presenting symptom history radiation exposure presence multiple endocrine neoplasia type men thyroid function test presence size thyroid nodule ultrasound presence lymph node metastasis distant metastasis fine needle aspiration fna cytology surgical procedure final histopathology length followup outcome analyzed postoperative complication including transient permanent hypocalcemia transient permanent recurrent laryngeal nerve paralysis wound infection hematoma length stay radioactive iodine treatment recurrence thyroid procedure series included hemithyroidectomy subtotal total completion thyroidectomy surgery performed either endocrine adult surgeon pediatric surgeon intraoperative nerve monitoring used early series procedure performed adult endocrine surgeon lately combined approach adopted pediatric surgeon adult endocrine surgeon collaborated case proceduresthe normal range laboratory regardless symptom transient hypocalcemia identified lasted le month permanent hypocalcemia considered serum calcium level remained normal range patient continued calcium supplementation month surgery patient family history men underwent genetic testing ret protooncogene confirm diagnosis patient underwent completion thyroidectomy preoperative postoperative vocal cord assessment otolaryngology clinic descriptive data generated comparison conducted using test continuous data chisquare fisher exact test proportionsresultsbetween patient underwent surgical procedure patient underwent two procedure thyroid disease institution eighty patient female mean age operation year median year range year common indication thyroidectomy thyroid nodule present case table mean sd size thyroid nodule mm case associated men syndrome final pathology two patient men syndrome showed medullary thyroid cancer mtc remaining patient prophylactic procedure development mtc none patient history radiation exposure eightyone patient fna correlated final histopathology case three case toxic adenoma one case graves disease require fna remaining case underwent fna another institution fna repeated institution came completion thyroidectomy documented pathology malignancy first surgery another hospitalthe common diagnosis included papillary thyroid cancer multinodular goiter colloid table indication thyroidectomy patient indicationnodulen men prophylaxishyperthyroidismmultinodular goitercompletion thyroidectomy hypocalcemia defined calcium level data number original pediatric thyroid surgeryann saudi med julyaugust wwwannsaudimednet 0cnodule table surgical procedure included total thyroidectomy hemithyroidectomy completion thyroidectomy subtotal thyroidectomy neck dissection performed patient operative complication observed patient common complication hypocalcemia transient permanent table thyroid pathology patientspathologyn benignnormal thyroid tissuecolloid nodulecystadenomathyroiditisgraves diseasethyroid cancerpapillaryfollicularmedullaryhurthleanaplastictotaldata number table benign malignant lesion patientsbenignn37malignantn66 p value age meanyearsgender malefemalepresence nodulehypocalcemiarecurrent laryngeal nerve palsybleedinghematomawound infectiontracheal injuryoverall complicationsmean length stay daysmen recurrent laryngeal nerve palsy transient permanent unilateral table patient malignant lesion lymph node metastasis patient distant metastasis lung none patient developed postoperative bleeding wound infection tracheal injury patient followed mean month median range month radioactive iodine treatment delivered patient malignant lesion patient recurrence local recurrence local distant recurrence lung three case received radioactive iodine rai recurrence one case low risk recurrence receive rai recurrence one case medullary thyroid cancer receive rai remaining five case clear data whether patient received rai recurrence local recurrence underwent resection except one patient lost follow mortality study discussionthe common indication thyroidectomy series thyroid nodule correlate previously published report pediatric population35 child thyroid nodule estimated fourfold higher risk developing thyroid cancer compared adults910 high incidence malignancy series suggests child thyroid nodule carefully evaluatedfna valuablemethod preoperative evaluation thyroid nodule however limitation routine use fna child including need sedation sampling error limited availability experienced cytopathologists11 many previous study reported high sensitivity specificity fna evaluating thyroid nodule children1114 correlate findingsour data showed lymph node metastasis thyroid cancer case support notion child thyroid cancer frequently present extensive disease adult lymphnode involvement diagnosis seen child compared adult differentiated thyroid cancer1523 hospital largest referral center saudi arabia especially oncology case may explain large number lymph node distant metastasis cohortthe common complication reported thyroidectomy child hypoparathyroidism incidence ranging original pediatric thyroid surgeryann saudi med julyaugust wwwannsaudimednet 0ccorresponds result reported hypocalcemia table one study found total thyroidectomy central bilateral neck dissection graves disease malignancy risk factor hypocalcemia thyroid surgery3 cohort postoperative hypocalcemia noted malignant case failed reach statistical significance moreover significant difference benign malignant case term mean age gender distribution recurrent laryngeal nerve injury overall complication finding reported previously26 multiple study recent year found inverse relationship surgeon volume complication rates2728 similar data pediatric population lacking one study found highvolume endocrine surgeon better outcome shorter length stay lower cost thyroidectomy parathyroidectomy child compared pediatric surgeon general surgeon otolaryngologists29 scheumann colleague also concluded collaborative approach pediatric endocrine surgeon would better outcome led author suggest combined approach endocrine pediatric surgeon addition pediatric endocrinologist may optimize care child surgical thyroid disease given low number pediatric patients4 data allow comparison different approach given late adoption combined approach recurrence rate thyroid cancer child thyroidectomy varied widely reported study ranging cohort study explored predictor recurrence lymph node involvement multiple nodule male gender younger age histologic subtype advanced tumor stage risk factor associated recurrence17233033 study patient malignant lesion received rai although conflicting data regarding indication postoperative rai treatment lowrisk patient current recommendation lowrisk patient treated without rai3436there limitation study retrospective nature may affect validity quality data small number case category enable u compare group explore predictor relative factor hand study add scarce data thyroid surgery pediatric age group malignancy commonest indication thyroid surgery child fna highly diagnostic hypocalcemia recurrent laryngeal nerve injury significant complication cancerrelated death extremely rare recurrence uncommon significant number patient malignant case received rai treatmentoriginal pediatric thyroid surgeryann saudi med julyaugust wwwannsaudimednet 0creferences trowbridge fl matovinovic j mclaren gd nichaman mz iodine goiter child pediatrics ries lag melbert krapcho stinchcomb dg howlader n horner mj seer cancer statistic review bethesda national cancer institute based november seer data submission chen yh masiakos pt gaz rd hodin ra parangi randolph gw pediatric thyroidectomy high volume thyroid surgery center risk factor postoperative hypocalcemia j pediatr surg aug5081316 wood jh partrick da barham hp bensard dd travers h bruny jl pediatric thyroidectomy collaborative surgical approach j pediatr surg may4658238 scholz smith jr chaignaud b shamberger rc huang sa thyroid surgery childrens hospital boston 35year singleinstitution experience j pediatr surg mar46343742 josefson j zimmerman thyroid nodule cancer child pediatr endocrinol rev sep611423 hameed r zacharin mr changing face paediatric adolescent thyroid cancer j paediatr child health lugovicente h ortiz vn irizarry h camp ji pagã¡n v pediatric thyroid nodule management era fine needle aspirationj pediatr surg mussa de andrea motta mormile palestini n corrias predictor malignancy child thyroid nodule j pediatr oct167488692 amirazodi e propst ej chung ct parra da wasserman jd pediatric thyroid fna biopsy outcome impact management year tertiary care center cancer cytopathol partyka kl huang ec2 cramer hm chen wu hh histologic clinical followup thyroid fineneedle aspirate pediatric patient cancer cytopathol sinha ck decoppi p pierro brain c hindmarsh p butler g thyroid surgery child clinical outcome eur j pediatr surg oct2554259 kundel thompson gb richards ml qiu lx cai schwenk fw pediatric endocrine surgery 20year experience mayo clinic j clin endocrinol metab february jiang w newbury ro newfield r pediatric thyroid surgery management thyroid nodulesan institutional experience feature 10year period int j pediatr endocrinol burke jf sippel r chen h evolution pediatric thyroid surgery tertiary medical center surg re alqahtani kh tunio asiri aljohani nj bayoumi riaz k clinicopathological treatment outcome differentiated thyroid cancer saudi child adult j otolaryngol head neck surg nov kluijfhout wp van beek dj verrijn stuart aa lodewijk l valk gd van der zee dc postoperative complication prophylactic thyroidectomy young patient multiple endocrine neoplasia type medicine baltimore 20159429e1108 raval mv browne chin ac zimmerman angelos p reynolds total thyroidectomy benign disease pediatric patientfeasible safe j pediatr surg stavrakis ai ituarte ph ko cy yeh mw surgeon volume predictor outcome inpatient outpatient endocrine surgery surgery sosa ja bowman hm tielsch jm powe nr gordon ta udelsman r importance surgeon experience clinical economic outcome thyroidectomy ann surg tuggle ct roman sa wang t boudourakis l thomas udelsman r pediatric endocrine surgery operating child surgery dec144686977 park jeong j ryu hr lee c park jh kang differentiated thyroid carcinoma child adolescents27year experience yonsei university health system j korean med sci palmer ba zarroug ae poley rn kollars jp moir cr papillary thyroid carcinoma child risk factor complication disease recurrence j pediatr surg wada n sugino k mimura nagahama kitagawa w shibuya h pediatric differentiated thyroid carcinoma stage risk factor analysis disease free survival bmc cancer danese gardini farsetti sciacchitano andreoli pontecorvi thyroid carcinoma child adolescent eur j pediatr astl j chovanec luke p katra r dvorakova vlcek p thyroid carcinoma surgery child adolescent year experience surgery pediatric thyroid lymph node metastasis carcinoma int j pediatr otorhinolaryngol chaukar da rangarajan v nair n nadkarni m pai p dcruz ak pediatric thyroid cancer j surg oncol dzodic r buta markovic gavrilo matovic milovanovic z surgical management welldifferentiated thyroid carcinoma child adolescent year experience single institution serbia endocr j scheumann gf gimm wegener g hundeshagen h dralle h prognostic significance surgical management locoregional papillary thyroid cancer world j surg shi rl qu n yang sw tumor size interpretation predicting cervical lymph node metastasis using differentiated thyroid cancer risk model onco target ther zimmerman hay id gough ir goellner jr ryan jj grant c papillary thyroid carcinoma child adult longterm followup patient conservatively treated one institution three decade surgery collini p mattavelli f pellegrinelli barisella ferrari massimino papillary carcinoma thyroid gland childhood adolescence morphologic subtypes biologic behavior prognosis clinicopathologic study sporadic case treated single institution 30year period j surg pathol borsonchazot causeret lifante jc augros berger n peix jl predictive factor recurrence series child adolescent differentiated thyroid cancer world j surg baumgarten hd bauer aj isaza mostoufimoab kazahaya k adzick n surgical management pediatric thyroid disease complication rate thyroidectomy childrens hospital philadelphia highvolume pediatric thyroid center journal pediatric surgery oct kurzawinski tr de coppi p thyroidectomy child inpediatric surgery pp springer berlin heidelberg francis g waguespack sg bauer aj angelog p benvenga management guideline child thyroid nodule differentiated thyroid cancer american thyroid association guideline task force pediatric thyroid cancer thyroid volume number original pediatric thyroid surgeryann saudi med julyaugust wwwannsaudimednet 0c\u001b[0m\n\u001b[1;37m                                                                                                                                                                                                                                                                                                                                                                                                                                                                                                                                                                                                                                                                                                                                                                                                                                                                                                                                                                                                                                                                                                                                                                                                                                                                                                                                                                                                                                                                                                                                                                                                                                                                                                                                                                                                                                                                                                                                                                                                                                                                                                                                                                                                                                                                                                                                                                                                                                            ^\u001b[0m\n\u001b[1;31mSyntaxError\u001b[0m\u001b[1;31m:\u001b[0m invalid decimal literal\n"
     ]
    }
   ],
   "source": [
    "import tensorflow as tf\n",
    "import ast\n",
    "from tensorflow.keras.models import Sequential\n",
    "from tensorflow.keras.layers import Embedding, Bidirectional, LSTM, Dense, Dropout\n",
    "from sklearn.model_selection import train_test_split\n",
    "from tensorflow.keras.preprocessing.sequence import pad_sequences\n",
    "\n",
    "# Defina o tamanho máximo de tokens em uma sequência\n",
    "max_len = 5  # exemplo, ajustar conforme necessário\n",
    "\n",
    "# Converte as strings de tokens para listas de inteiros\n",
    "df['tokens'] = df['tokens'].apply(lambda x: ast.literal_eval(x))\n",
    "\n",
    "# Padronize as sequências para o mesmo comprimento\n",
    "X = pad_sequences(df['tokens'].values, maxlen=max_len, padding='post')\n",
    "\n",
    "# Convertendo os labels para numpy array\n",
    "y = df['label'].values\n",
    "\n",
    "# Divida os dados em conjunto de treinamento e teste\n",
    "X_train, X_test, y_train, y_test = train_test_split(X, y, test_size=0.2, random_state=42)\n",
    "\n",
    "# Definindo parâmetros do modelo\n",
    "vocab_size = len(tokenizer.word_index) + 1  # tamanho do vocabulário (ajustar conforme necessário)\n",
    "embedding_dim = 128  # dimensão do embedding\n",
    "lstm_units = 64  # número de unidades LSTM\n",
    "\n",
    "# Construindo o modelo\n",
    "model = Sequential()\n",
    "model.add(Embedding(input_dim=vocab_size, output_dim=embedding_dim, input_length=max_len))\n",
    "model.add(Bidirectional(LSTM(units=lstm_units, return_sequences=False)))\n",
    "model.add(Dropout(0.5))  # regularização\n",
    "model.add(Dense(64, activation='relu'))\n",
    "model.add(Dense(1, activation='sigmoid'))  # para classificação binária; use softmax para múltiplas classes\n",
    "\n",
    "# Compilando o modelo\n",
    "model.compile(loss='binary_crossentropy', optimizer='adam', metrics=['accuracy'])\n",
    "\n",
    "# Visualizando a arquitetura do modelo\n",
    "model.summary()\n",
    "\n",
    "# Treinamento do modelo\n",
    "history = model.fit(X_train, y_train, epochs=10, batch_size=32, validation_data=(X_test, y_test))\n",
    "\n",
    "# Avaliando o modelo\n",
    "loss, accuracy = model.evaluate(X_test, y_test)\n",
    "print(f'Test Accuracy: {accuracy:.2f}')\n"
   ]
  },
  {
   "cell_type": "markdown",
   "metadata": {},
   "source": []
  }
 ],
 "metadata": {
  "kernelspec": {
   "display_name": "Python 3",
   "language": "python",
   "name": "python3"
  },
  "language_info": {
   "codemirror_mode": {
    "name": "ipython",
    "version": 3
   },
   "file_extension": ".py",
   "mimetype": "text/x-python",
   "name": "python",
   "nbconvert_exporter": "python",
   "pygments_lexer": "ipython3",
   "version": "3.12.4"
  }
 },
 "nbformat": 4,
 "nbformat_minor": 2
}
